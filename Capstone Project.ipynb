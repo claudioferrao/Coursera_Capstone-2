{
 "cells": [
  {
   "cell_type": "markdown",
   "metadata": {},
   "source": [
    "<h1>\"The Battle of Neighborhoods\"</h1>\n",
    "<h3>Coursera \"IBM Data Science Professional Certificate\" specialization capstone project</h3>\n",
    "\n",
    "\n",
    "by _Leandro Oliveira Bortot_<br>\n",
    "Prospective Data Scientist"
   ]
  },
  {
   "cell_type": "markdown",
   "metadata": {},
   "source": [
    "<h2>Business Problem</h2>\n",
    "\n",
    "<b>Problem definition:</b><br>\n",
    "The process of finding a new house or apartment when moving can be lengthy and, specially when moving to a different city, costly due to several travels to the new city to visit potential new houses indicated by the real estate companies.<br>\n",
    "In this notebook we propose a way of shortening this process by using data about the most popular venues of each neighborhood of a given city to find their \"venue profile\".\n",
    "\n",
    "<br>\n",
    "\n",
    "<b>Target audience:</b><br>\n",
    "Analyzes like the one we will present here may be useful to real estate companies. They can make a short interview, or use a web-based form, to determine what is the \"venue profile\" that each client prefers and them suggest houses located in neighborhoods with \"venues profile\" that matches the client's preferences.<br>\n",
    "Accelerating the process of matching clients with houses with which they will be satisfied benefits both sides: It is beneficial to the real estate company because it increases the chances of closing deals before its competitors and to the client because it saves their time and money due to less visits to houses suggested by the real estate company in which they don't really have interest.<br><br>\n",
    "The analysis we will show here is general and can be applied to any city. In this notebook, we will use the city of Ribeirão Preto, one of the largest of the State of São Paulo, Brazil."
   ]
  },
  {
   "cell_type": "markdown",
   "metadata": {},
   "source": [
    "<h2>Data</h2>\n",
    "In order to tackle the problem of defining the \"venue profiles\" of neighborhoods in a city, we will use:\n",
    "\n",
    "1. Web scraping with BeautifulSoup to obtain a list of all neighborhoods of Ribeirão Preto (SP-Brazil).\n",
    "2. Google Maps API for geocoding the neighborhood names into their coordinates.\n",
    "3. Foursquare API to get the most popular venues in each neighborhood.\n"
   ]
  },
  {
   "cell_type": "markdown",
   "metadata": {},
   "source": [
    "<!--\n",
    "\n",
    "<h2>Introduction/Business Problem</h2>\n",
    "Clearly define a problem or an idea of your choice, where you would need to leverage the Foursquare location data to solve or execute. Remember that data science problems always target an audience and are meant to help a group of stakeholders solve a problem, so make sure that you explicitly describe your audience and why they would care about your problem.\n",
    "    Introduction where you discuss the business problem and who would be interested in this project.\n",
    "    \n",
    "<h2>Data</h2>\n",
    "Describe the data that you will be using to solve the problem or execute your idea. Remember that you will need to use the Foursquare location data to solve the problem or execute your idea. You can absolutely use other datasets in combination with the Foursquare location data. So make sure that you provide adequate explanation and discussion, with examples, of the data that you will be using, even if it is only Foursquare location data.\n",
    "Data where you describe the data that will be used to solve the problem and the source of the data.\n",
    "\n",
    "<h2>Methodology section</h2>\n",
    "Methodology section which represents the main component of the report where you discuss and describe any exploratory data analysis that you did, any inferential statistical testing that you performed, and what machine learnings were used and why.\n",
    "\n",
    "<h2>Results</h2>\n",
    "Results section where you discuss the results.\n",
    "\n",
    "<h2>Discussion</h2>\n",
    "Discussion section where you discuss any observations you noted and any recommendations you can make based on the results.\n",
    "\n",
    "<h2>Conclusion</h2>\n",
    "Conclusion section where you conclude the report.\n",
    "\n",
    "-->\n"
   ]
  },
  {
   "cell_type": "markdown",
   "metadata": {},
   "source": [
    "<hr>"
   ]
  },
  {
   "cell_type": "markdown",
   "metadata": {},
   "source": [
    "Leandro Oliveira Bortot<br>\n",
    "_Prospective Data Scientist_<br>\n",
    "Ribeirão Preto, SP, Brazil<br>\n",
    "January 2019"
   ]
  }
 ],
 "metadata": {
  "kernelspec": {
   "display_name": "Python 3",
   "language": "python",
   "name": "python3"
  },
  "language_info": {
   "codemirror_mode": {
    "name": "ipython",
    "version": 3
   },
   "file_extension": ".py",
   "mimetype": "text/x-python",
   "name": "python",
   "nbconvert_exporter": "python",
   "pygments_lexer": "ipython3",
   "version": "3.6.6"
  }
 },
 "nbformat": 4,
 "nbformat_minor": 2
}
